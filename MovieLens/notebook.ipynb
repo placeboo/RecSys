{
 "cells": [
  {
   "cell_type": "code",
   "id": "initial_id",
   "metadata": {
    "collapsed": true,
    "ExecuteTime": {
     "end_time": "2024-04-23T07:21:07.039774Z",
     "start_time": "2024-04-23T07:21:07.032549Z"
    }
   },
   "source": [
    "import tensorflow_datasets as tfds\n",
    "import pandas as pd"
   ],
   "outputs": [],
   "execution_count": 8
  },
  {
   "metadata": {},
   "cell_type": "markdown",
   "source": "# Data Source",
   "id": "a1caa88c09bf9fe3"
  },
  {
   "metadata": {},
   "cell_type": "markdown",
   "source": [
    "`movielens/1m-ratings`: This dataset contains 1,000,209 anonymous ratings of approximately 3,900 movies made by 6,040 MovieLens users who joined MovieLens. It is the largest dataset that contains demographic data.\n",
    "Each user has rated at least 20 movies. Ratings are in whole-star increments. In demographic data, age values are divided into ranges and the lowest age value for each range is used in the data instead of the actual values.\n",
    "\n",
    "`movielens/1m-movies`: This dataset contains data of approximately 3,900 movies rated in the 1m dataset."
   ],
   "id": "ddf5cf8a45f1edc2"
  },
  {
   "metadata": {},
   "cell_type": "markdown",
   "source": "# Load data",
   "id": "9b720bf1988c2c93"
  },
  {
   "metadata": {
    "ExecuteTime": {
     "end_time": "2024-04-23T07:25:25.420999Z",
     "start_time": "2024-04-23T07:25:24.581912Z"
    }
   },
   "cell_type": "code",
   "source": [
    "'''\n",
    "load the MovieLens 1M dataset, it takes around 2 minutes to download\n",
    "1m dataset is the largest MovieLens dataset that contains demographic data\n",
    "if not downloaded, it will download the dataset; otherwise, it will load the dataset\n",
    "'''\n",
    "# data = tfds.load(\"movielens/1m-ratings\")\n",
    "# df = tfds.as_dataframe(data['train'])\n",
    "# df.to_csv(\"data/raw/movielens_1m_ratings.csv\", index=False)\n",
    "\n",
    "# load the dataset from the csv file\n",
    "df = pd.read_csv(\"data/raw/movielens_1m_ratings.csv\")\n",
    "print(df.shape)\n",
    "df.head(5)"
   ],
   "id": "40511d6227207cc",
   "outputs": [
    {
     "name": "stdout",
     "output_type": "stream",
     "text": [
      "(1000209, 11)\n"
     ]
    },
    {
     "data": {
      "text/plain": [
       "   bucketized_user_age movie_genres movie_id                      movie_title  \\\n",
       "0                 35.0        [0 7]  b'3107'              b'Backdraft (1991)'   \n",
       "1                 25.0          [7]  b'2114'         b'Outsiders, The (1983)'   \n",
       "2                 18.0      [ 4 15]   b'256'                 b'Junior (1994)'   \n",
       "3                 18.0      [ 0 10]  b'1389'               b'Jaws 3-D (1983)'   \n",
       "4                 18.0          [0]  b'3635'  b'Spy Who Loved Me, The (1977)'   \n",
       "\n",
       "    timestamp  user_gender  user_id  user_occupation_label  \\\n",
       "0   977432193         True   b'130'                     18   \n",
       "1   965932967        False  b'3829'                      0   \n",
       "2  1012103552        False  b'1265'                     21   \n",
       "3   972004605         True  b'2896'                     14   \n",
       "4   961180111         True  b'5264'                     17   \n",
       "\n",
       "      user_occupation_text  user_rating user_zip_code  \n",
       "0   b'technician/engineer'          5.0      b'50021'  \n",
       "1     b'academic/educator'          4.0      b'22307'  \n",
       "2                b'writer'          1.0      b'49321'  \n",
       "3       b'sales/marketing'          5.0      b'60073'  \n",
       "4  b'college/grad student'          4.0      b'15217'  "
      ],
      "text/html": [
       "<div>\n",
       "<style scoped>\n",
       "    .dataframe tbody tr th:only-of-type {\n",
       "        vertical-align: middle;\n",
       "    }\n",
       "\n",
       "    .dataframe tbody tr th {\n",
       "        vertical-align: top;\n",
       "    }\n",
       "\n",
       "    .dataframe thead th {\n",
       "        text-align: right;\n",
       "    }\n",
       "</style>\n",
       "<table border=\"1\" class=\"dataframe\">\n",
       "  <thead>\n",
       "    <tr style=\"text-align: right;\">\n",
       "      <th></th>\n",
       "      <th>bucketized_user_age</th>\n",
       "      <th>movie_genres</th>\n",
       "      <th>movie_id</th>\n",
       "      <th>movie_title</th>\n",
       "      <th>timestamp</th>\n",
       "      <th>user_gender</th>\n",
       "      <th>user_id</th>\n",
       "      <th>user_occupation_label</th>\n",
       "      <th>user_occupation_text</th>\n",
       "      <th>user_rating</th>\n",
       "      <th>user_zip_code</th>\n",
       "    </tr>\n",
       "  </thead>\n",
       "  <tbody>\n",
       "    <tr>\n",
       "      <th>0</th>\n",
       "      <td>35.0</td>\n",
       "      <td>[0 7]</td>\n",
       "      <td>b'3107'</td>\n",
       "      <td>b'Backdraft (1991)'</td>\n",
       "      <td>977432193</td>\n",
       "      <td>True</td>\n",
       "      <td>b'130'</td>\n",
       "      <td>18</td>\n",
       "      <td>b'technician/engineer'</td>\n",
       "      <td>5.0</td>\n",
       "      <td>b'50021'</td>\n",
       "    </tr>\n",
       "    <tr>\n",
       "      <th>1</th>\n",
       "      <td>25.0</td>\n",
       "      <td>[7]</td>\n",
       "      <td>b'2114'</td>\n",
       "      <td>b'Outsiders, The (1983)'</td>\n",
       "      <td>965932967</td>\n",
       "      <td>False</td>\n",
       "      <td>b'3829'</td>\n",
       "      <td>0</td>\n",
       "      <td>b'academic/educator'</td>\n",
       "      <td>4.0</td>\n",
       "      <td>b'22307'</td>\n",
       "    </tr>\n",
       "    <tr>\n",
       "      <th>2</th>\n",
       "      <td>18.0</td>\n",
       "      <td>[ 4 15]</td>\n",
       "      <td>b'256'</td>\n",
       "      <td>b'Junior (1994)'</td>\n",
       "      <td>1012103552</td>\n",
       "      <td>False</td>\n",
       "      <td>b'1265'</td>\n",
       "      <td>21</td>\n",
       "      <td>b'writer'</td>\n",
       "      <td>1.0</td>\n",
       "      <td>b'49321'</td>\n",
       "    </tr>\n",
       "    <tr>\n",
       "      <th>3</th>\n",
       "      <td>18.0</td>\n",
       "      <td>[ 0 10]</td>\n",
       "      <td>b'1389'</td>\n",
       "      <td>b'Jaws 3-D (1983)'</td>\n",
       "      <td>972004605</td>\n",
       "      <td>True</td>\n",
       "      <td>b'2896'</td>\n",
       "      <td>14</td>\n",
       "      <td>b'sales/marketing'</td>\n",
       "      <td>5.0</td>\n",
       "      <td>b'60073'</td>\n",
       "    </tr>\n",
       "    <tr>\n",
       "      <th>4</th>\n",
       "      <td>18.0</td>\n",
       "      <td>[0]</td>\n",
       "      <td>b'3635'</td>\n",
       "      <td>b'Spy Who Loved Me, The (1977)'</td>\n",
       "      <td>961180111</td>\n",
       "      <td>True</td>\n",
       "      <td>b'5264'</td>\n",
       "      <td>17</td>\n",
       "      <td>b'college/grad student'</td>\n",
       "      <td>4.0</td>\n",
       "      <td>b'15217'</td>\n",
       "    </tr>\n",
       "  </tbody>\n",
       "</table>\n",
       "</div>"
      ]
     },
     "execution_count": 15,
     "metadata": {},
     "output_type": "execute_result"
    }
   ],
   "execution_count": 15
  },
  {
   "metadata": {
    "ExecuteTime": {
     "end_time": "2024-04-23T07:25:08.539400Z",
     "start_time": "2024-04-23T07:25:08.536156Z"
    }
   },
   "cell_type": "code",
   "source": "",
   "id": "a6a57e5acbd0ee7b",
   "outputs": [
    {
     "name": "stdout",
     "output_type": "stream",
     "text": [
      "(1000209, 11)\n"
     ]
    }
   ],
   "execution_count": 14
  },
  {
   "metadata": {
    "ExecuteTime": {
     "end_time": "2024-04-23T07:36:56.730815Z",
     "start_time": "2024-04-23T07:36:56.718325Z"
    }
   },
   "cell_type": "code",
   "source": [
    "'''\n",
    "Load the MovieLens 1M movies dataset.\n",
    "It contains data of approximately 3,900 movies rated in the 1m dataset.\n",
    "If not downloaded, it will download the dataset; otherwise, it will load the dataset.\n",
    "'''\n",
    "# movie_data = tfds.load(\"movielens/1m-movies\")\n",
    "# movie_df = tfds.as_dataframe(movie_data['train'])\n",
    "# movie_df.to_csv(\"data/raw/movielens_1m_movies.csv\", index=False)\n",
    "\n",
    "# load the dataset from the csv file\n",
    "movie_df = pd.read_csv(\"data/raw/movielens_1m_movies.csv\")\n",
    "print(movie_df.shape)\n",
    "movie_df.head(5)"
   ],
   "id": "60e8c1e2b6d87c9c",
   "outputs": [
    {
     "name": "stdout",
     "output_type": "stream",
     "text": [
      "(3883, 3)\n"
     ]
    },
    {
     "data": {
      "text/plain": [
       "  movie_genres movie_id                                        movie_title\n",
       "0        [5 7]  b'1729'                             b'Jackie Brown (1997)'\n",
       "1          [7]  b'1486'                          b'Quiet Room, The (1996)'\n",
       "2          [4]  b'3086'  b'March of the Wooden Soldiers (a.k.a. Laurel ...\n",
       "3          [0]  b'2965'                          b'Omega Code, The (1999)'\n",
       "4         [10]  b'2853'  b'Communion (a.k.a. Alice, Sweet Alice/Holy Te..."
      ],
      "text/html": [
       "<div>\n",
       "<style scoped>\n",
       "    .dataframe tbody tr th:only-of-type {\n",
       "        vertical-align: middle;\n",
       "    }\n",
       "\n",
       "    .dataframe tbody tr th {\n",
       "        vertical-align: top;\n",
       "    }\n",
       "\n",
       "    .dataframe thead th {\n",
       "        text-align: right;\n",
       "    }\n",
       "</style>\n",
       "<table border=\"1\" class=\"dataframe\">\n",
       "  <thead>\n",
       "    <tr style=\"text-align: right;\">\n",
       "      <th></th>\n",
       "      <th>movie_genres</th>\n",
       "      <th>movie_id</th>\n",
       "      <th>movie_title</th>\n",
       "    </tr>\n",
       "  </thead>\n",
       "  <tbody>\n",
       "    <tr>\n",
       "      <th>0</th>\n",
       "      <td>[5 7]</td>\n",
       "      <td>b'1729'</td>\n",
       "      <td>b'Jackie Brown (1997)'</td>\n",
       "    </tr>\n",
       "    <tr>\n",
       "      <th>1</th>\n",
       "      <td>[7]</td>\n",
       "      <td>b'1486'</td>\n",
       "      <td>b'Quiet Room, The (1996)'</td>\n",
       "    </tr>\n",
       "    <tr>\n",
       "      <th>2</th>\n",
       "      <td>[4]</td>\n",
       "      <td>b'3086'</td>\n",
       "      <td>b'March of the Wooden Soldiers (a.k.a. Laurel ...</td>\n",
       "    </tr>\n",
       "    <tr>\n",
       "      <th>3</th>\n",
       "      <td>[0]</td>\n",
       "      <td>b'2965'</td>\n",
       "      <td>b'Omega Code, The (1999)'</td>\n",
       "    </tr>\n",
       "    <tr>\n",
       "      <th>4</th>\n",
       "      <td>[10]</td>\n",
       "      <td>b'2853'</td>\n",
       "      <td>b'Communion (a.k.a. Alice, Sweet Alice/Holy Te...</td>\n",
       "    </tr>\n",
       "  </tbody>\n",
       "</table>\n",
       "</div>"
      ]
     },
     "execution_count": 18,
     "metadata": {},
     "output_type": "execute_result"
    }
   ],
   "execution_count": 18
  },
  {
   "metadata": {},
   "cell_type": "code",
   "outputs": [],
   "execution_count": null,
   "source": "",
   "id": "d388cbfab62b57d3"
  }
 ],
 "metadata": {
  "kernelspec": {
   "display_name": "Python 3",
   "language": "python",
   "name": "python3"
  },
  "language_info": {
   "codemirror_mode": {
    "name": "ipython",
    "version": 2
   },
   "file_extension": ".py",
   "mimetype": "text/x-python",
   "name": "python",
   "nbconvert_exporter": "python",
   "pygments_lexer": "ipython2",
   "version": "2.7.6"
  }
 },
 "nbformat": 4,
 "nbformat_minor": 5
}
